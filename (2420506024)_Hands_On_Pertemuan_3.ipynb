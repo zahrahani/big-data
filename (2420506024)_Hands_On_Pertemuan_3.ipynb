{
  "cells": [
    {
      "cell_type": "markdown",
      "metadata": {
        "id": "view-in-github",
        "colab_type": "text"
      },
      "source": [
        "<a href=\"https://colab.research.google.com/github/zahrahani/big-data/blob/main/(2420506024)_Hands_On_Pertemuan_3.ipynb\" target=\"_parent\"><img src=\"https://colab.research.google.com/assets/colab-badge.svg\" alt=\"Open In Colab\"/></a>"
      ]
    },
    {
      "cell_type": "markdown",
      "id": "f89f7684",
      "metadata": {
        "id": "f89f7684"
      },
      "source": [
        "# Hands-On Pertemuan 3: Data Processing dengan Apache Spark"
      ]
    },
    {
      "cell_type": "markdown",
      "id": "e30ce9d1",
      "metadata": {
        "id": "e30ce9d1"
      },
      "source": [
        "## Tujuan:\n",
        "- Memahami dan mempraktikkan data processing menggunakan Apache Spark.\n",
        "- Menggunakan Spark untuk operasi data yang efisien pada dataset besar.\n",
        "- Menerapkan teknik canggih dalam Spark untuk mengatasi kasus penggunaan nyata."
      ]
    },
    {
      "cell_type": "markdown",
      "id": "cd5c2f90",
      "metadata": {
        "id": "cd5c2f90"
      },
      "source": [
        "### 1. Pengenalan Spark DataFrames\n",
        "Spark DataFrame menyediakan struktur data yang optimal dengan operasi yang dioptimalkan untuk pemrosesan data besar, yang sangat mirip dengan DataFrame di Pandas atau di RDBMS.\n",
        "\n",
        "- **Tugas 1**: Buat DataFrame sederhana di Spark dan eksplorasi beberapa fungsi dasar yang tersedia."
      ]
    },
    {
      "cell_type": "code",
      "execution_count": 4,
      "id": "986d01c7",
      "metadata": {
        "id": "986d01c7",
        "colab": {
          "base_uri": "https://localhost:8080/"
        },
        "outputId": "4f7ad3b9-695a-4f30-8719-4e371fd3f997"
      },
      "outputs": [
        {
          "output_type": "stream",
          "name": "stdout",
          "text": [
            "+------------+-------------+------+\n",
            "|EmployeeName|   Department|Salary|\n",
            "+------------+-------------+------+\n",
            "|        Axel|           HR|  4200|\n",
            "|       James|        Sales|  3000|\n",
            "|     Michael|        Sales|  4600|\n",
            "|      Robert|        Sales|  4100|\n",
            "|       Maria|      Finance|  3000|\n",
            "|       Selly|Cust. Service|  3250|\n",
            "+------------+-------------+------+\n",
            "\n"
          ]
        }
      ],
      "source": [
        "# DataFrame Spark sederhana\n",
        "from pyspark.sql import SparkSession\n",
        "spark = SparkSession.builder.appName('HandsOnPertemuan3').getOrCreate()\n",
        "\n",
        "data = [('Axel', 'HR', 4200),\n",
        "        ('James', 'Sales', 3000),\n",
        "        ('Michael', 'Sales', 4600),\n",
        "        ('Robert', 'Sales', 4100),\n",
        "        ('Maria', 'Finance', 3000),\n",
        "        ('Selly', 'Cust. Service', 3250)]\n",
        "columns = ['EmployeeName', 'Department', 'Salary']\n",
        "\n",
        "df = spark.createDataFrame(data, schema=columns)\n",
        "\n",
        "df.show()"
      ]
    },
    {
      "cell_type": "markdown",
      "id": "fca66b73",
      "metadata": {
        "id": "fca66b73"
      },
      "source": [
        "### 2. Transformasi Dasar dengan DataFrames\n",
        "Pemrosesan data meliputi transformasi seperti filtering, selections, dan aggregations. Spark menyediakan cara efisien untuk melaksanakan operasi ini.\n",
        "\n",
        "- **Tugas 2**: Gunakan operasi filter, select, groupBy untuk mengekstrak informasi dari data, serta lakukan agregasi data untuk mendapatkan insight tentang dataset menggunakan perintah seperti mean, max, sum."
      ]
    },
    {
      "cell_type": "code",
      "execution_count": null,
      "id": "58232678",
      "metadata": {
        "id": "58232678"
      },
      "outputs": [],
      "source": [
        "# Contoh operasi transformasi DataFrame\n",
        "filter(df['Salary'] > 3000).show()\n",
        "select('EmployeeName', 'Salary').show()\n",
        "groupBy('Department').avg('Salary').show()"
      ]
    },
    {
      "cell_type": "code",
      "source": [
        "# DataFrame Spark sederhana dan operasi dasar filter()\n",
        "from pyspark.sql import SparkSession\n",
        "spark = SparkSession.builder.appName('HandsOnPertemuan3').getOrCreate()\n",
        "\n",
        "data = [('Axel', 'HR', 4200),\n",
        "        ('James', 'Sales', 3000),\n",
        "        ('Michael', 'Sales', 4600),\n",
        "        ('Robert', 'Sales', 4100),\n",
        "        ('Maria', 'Finance', 3000),\n",
        "        ('Selly', 'Cust. Service', 3250)]\n",
        "columns = ['EmployeeName', 'Department', 'Salary']\n",
        "\n",
        "df = spark.createDataFrame(data, schema=columns)\n",
        "\n",
        "df.filter(df['Salary'] > 4000).show()"
      ],
      "metadata": {
        "colab": {
          "base_uri": "https://localhost:8080/"
        },
        "id": "CbXBP2tCCdmN",
        "outputId": "2447f8b6-ba12-4fda-8dac-159e74258ef5"
      },
      "id": "CbXBP2tCCdmN",
      "execution_count": null,
      "outputs": [
        {
          "output_type": "stream",
          "name": "stdout",
          "text": [
            "+------------+----------+------+\n",
            "|EmployeeName|Department|Salary|\n",
            "+------------+----------+------+\n",
            "|        Axel|        HR|  4200|\n",
            "|     Michael|     Sales|  4600|\n",
            "|      Robert|     Sales|  4100|\n",
            "+------------+----------+------+\n",
            "\n"
          ]
        }
      ]
    },
    {
      "cell_type": "code",
      "source": [
        "# DataFrame Spark sederhana dan operasi dasar filter(), toPandas()\n",
        "from pyspark.sql import SparkSession\n",
        "spark = SparkSession.builder.appName('HandsOnPertemuan3').getOrCreate()\n",
        "\n",
        "data = [('Axel', 'HR', 4200),\n",
        "        ('James', 'Sales', 3000),\n",
        "        ('Michael', 'Sales', 4600),\n",
        "        ('Robert', 'Sales', 4100),\n",
        "        ('Maria', 'Finance', 3000),\n",
        "        ('Selly', 'Cust. Service', 3250)]\n",
        "columns = ['EmployeeName', 'Department', 'Salary']\n",
        "\n",
        "df = spark.createDataFrame(data, schema=columns)\n",
        "\n",
        "df.filter(df.Department == \"Sales\").toPandas()"
      ],
      "metadata": {
        "colab": {
          "base_uri": "https://localhost:8080/",
          "height": 144
        },
        "id": "BOv6RQK8nbRC",
        "outputId": "11491d21-edf4-4e84-9aef-97e45c784580"
      },
      "id": "BOv6RQK8nbRC",
      "execution_count": null,
      "outputs": [
        {
          "output_type": "execute_result",
          "data": {
            "text/plain": [
              "  EmployeeName Department  Salary\n",
              "0        James      Sales    3000\n",
              "1      Michael      Sales    4600\n",
              "2       Robert      Sales    4100"
            ],
            "text/html": [
              "\n",
              "  <div id=\"df-5d1ea4c2-4921-4af2-a1fd-707dad19f37e\" class=\"colab-df-container\">\n",
              "    <div>\n",
              "<style scoped>\n",
              "    .dataframe tbody tr th:only-of-type {\n",
              "        vertical-align: middle;\n",
              "    }\n",
              "\n",
              "    .dataframe tbody tr th {\n",
              "        vertical-align: top;\n",
              "    }\n",
              "\n",
              "    .dataframe thead th {\n",
              "        text-align: right;\n",
              "    }\n",
              "</style>\n",
              "<table border=\"1\" class=\"dataframe\">\n",
              "  <thead>\n",
              "    <tr style=\"text-align: right;\">\n",
              "      <th></th>\n",
              "      <th>EmployeeName</th>\n",
              "      <th>Department</th>\n",
              "      <th>Salary</th>\n",
              "    </tr>\n",
              "  </thead>\n",
              "  <tbody>\n",
              "    <tr>\n",
              "      <th>0</th>\n",
              "      <td>James</td>\n",
              "      <td>Sales</td>\n",
              "      <td>3000</td>\n",
              "    </tr>\n",
              "    <tr>\n",
              "      <th>1</th>\n",
              "      <td>Michael</td>\n",
              "      <td>Sales</td>\n",
              "      <td>4600</td>\n",
              "    </tr>\n",
              "    <tr>\n",
              "      <th>2</th>\n",
              "      <td>Robert</td>\n",
              "      <td>Sales</td>\n",
              "      <td>4100</td>\n",
              "    </tr>\n",
              "  </tbody>\n",
              "</table>\n",
              "</div>\n",
              "    <div class=\"colab-df-buttons\">\n",
              "\n",
              "  <div class=\"colab-df-container\">\n",
              "    <button class=\"colab-df-convert\" onclick=\"convertToInteractive('df-5d1ea4c2-4921-4af2-a1fd-707dad19f37e')\"\n",
              "            title=\"Convert this dataframe to an interactive table.\"\n",
              "            style=\"display:none;\">\n",
              "\n",
              "  <svg xmlns=\"http://www.w3.org/2000/svg\" height=\"24px\" viewBox=\"0 -960 960 960\">\n",
              "    <path d=\"M120-120v-720h720v720H120Zm60-500h600v-160H180v160Zm220 220h160v-160H400v160Zm0 220h160v-160H400v160ZM180-400h160v-160H180v160Zm440 0h160v-160H620v160ZM180-180h160v-160H180v160Zm440 0h160v-160H620v160Z\"/>\n",
              "  </svg>\n",
              "    </button>\n",
              "\n",
              "  <style>\n",
              "    .colab-df-container {\n",
              "      display:flex;\n",
              "      gap: 12px;\n",
              "    }\n",
              "\n",
              "    .colab-df-convert {\n",
              "      background-color: #E8F0FE;\n",
              "      border: none;\n",
              "      border-radius: 50%;\n",
              "      cursor: pointer;\n",
              "      display: none;\n",
              "      fill: #1967D2;\n",
              "      height: 32px;\n",
              "      padding: 0 0 0 0;\n",
              "      width: 32px;\n",
              "    }\n",
              "\n",
              "    .colab-df-convert:hover {\n",
              "      background-color: #E2EBFA;\n",
              "      box-shadow: 0px 1px 2px rgba(60, 64, 67, 0.3), 0px 1px 3px 1px rgba(60, 64, 67, 0.15);\n",
              "      fill: #174EA6;\n",
              "    }\n",
              "\n",
              "    .colab-df-buttons div {\n",
              "      margin-bottom: 4px;\n",
              "    }\n",
              "\n",
              "    [theme=dark] .colab-df-convert {\n",
              "      background-color: #3B4455;\n",
              "      fill: #D2E3FC;\n",
              "    }\n",
              "\n",
              "    [theme=dark] .colab-df-convert:hover {\n",
              "      background-color: #434B5C;\n",
              "      box-shadow: 0px 1px 3px 1px rgba(0, 0, 0, 0.15);\n",
              "      filter: drop-shadow(0px 1px 2px rgba(0, 0, 0, 0.3));\n",
              "      fill: #FFFFFF;\n",
              "    }\n",
              "  </style>\n",
              "\n",
              "    <script>\n",
              "      const buttonEl =\n",
              "        document.querySelector('#df-5d1ea4c2-4921-4af2-a1fd-707dad19f37e button.colab-df-convert');\n",
              "      buttonEl.style.display =\n",
              "        google.colab.kernel.accessAllowed ? 'block' : 'none';\n",
              "\n",
              "      async function convertToInteractive(key) {\n",
              "        const element = document.querySelector('#df-5d1ea4c2-4921-4af2-a1fd-707dad19f37e');\n",
              "        const dataTable =\n",
              "          await google.colab.kernel.invokeFunction('convertToInteractive',\n",
              "                                                    [key], {});\n",
              "        if (!dataTable) return;\n",
              "\n",
              "        const docLinkHtml = 'Like what you see? Visit the ' +\n",
              "          '<a target=\"_blank\" href=https://colab.research.google.com/notebooks/data_table.ipynb>data table notebook</a>'\n",
              "          + ' to learn more about interactive tables.';\n",
              "        element.innerHTML = '';\n",
              "        dataTable['output_type'] = 'display_data';\n",
              "        await google.colab.output.renderOutput(dataTable, element);\n",
              "        const docLink = document.createElement('div');\n",
              "        docLink.innerHTML = docLinkHtml;\n",
              "        element.appendChild(docLink);\n",
              "      }\n",
              "    </script>\n",
              "  </div>\n",
              "\n",
              "\n",
              "    <div id=\"df-8be5ec98-3a1b-48ab-9776-5989f45e4d85\">\n",
              "      <button class=\"colab-df-quickchart\" onclick=\"quickchart('df-8be5ec98-3a1b-48ab-9776-5989f45e4d85')\"\n",
              "                title=\"Suggest charts\"\n",
              "                style=\"display:none;\">\n",
              "\n",
              "<svg xmlns=\"http://www.w3.org/2000/svg\" height=\"24px\"viewBox=\"0 0 24 24\"\n",
              "     width=\"24px\">\n",
              "    <g>\n",
              "        <path d=\"M19 3H5c-1.1 0-2 .9-2 2v14c0 1.1.9 2 2 2h14c1.1 0 2-.9 2-2V5c0-1.1-.9-2-2-2zM9 17H7v-7h2v7zm4 0h-2V7h2v10zm4 0h-2v-4h2v4z\"/>\n",
              "    </g>\n",
              "</svg>\n",
              "      </button>\n",
              "\n",
              "<style>\n",
              "  .colab-df-quickchart {\n",
              "      --bg-color: #E8F0FE;\n",
              "      --fill-color: #1967D2;\n",
              "      --hover-bg-color: #E2EBFA;\n",
              "      --hover-fill-color: #174EA6;\n",
              "      --disabled-fill-color: #AAA;\n",
              "      --disabled-bg-color: #DDD;\n",
              "  }\n",
              "\n",
              "  [theme=dark] .colab-df-quickchart {\n",
              "      --bg-color: #3B4455;\n",
              "      --fill-color: #D2E3FC;\n",
              "      --hover-bg-color: #434B5C;\n",
              "      --hover-fill-color: #FFFFFF;\n",
              "      --disabled-bg-color: #3B4455;\n",
              "      --disabled-fill-color: #666;\n",
              "  }\n",
              "\n",
              "  .colab-df-quickchart {\n",
              "    background-color: var(--bg-color);\n",
              "    border: none;\n",
              "    border-radius: 50%;\n",
              "    cursor: pointer;\n",
              "    display: none;\n",
              "    fill: var(--fill-color);\n",
              "    height: 32px;\n",
              "    padding: 0;\n",
              "    width: 32px;\n",
              "  }\n",
              "\n",
              "  .colab-df-quickchart:hover {\n",
              "    background-color: var(--hover-bg-color);\n",
              "    box-shadow: 0 1px 2px rgba(60, 64, 67, 0.3), 0 1px 3px 1px rgba(60, 64, 67, 0.15);\n",
              "    fill: var(--button-hover-fill-color);\n",
              "  }\n",
              "\n",
              "  .colab-df-quickchart-complete:disabled,\n",
              "  .colab-df-quickchart-complete:disabled:hover {\n",
              "    background-color: var(--disabled-bg-color);\n",
              "    fill: var(--disabled-fill-color);\n",
              "    box-shadow: none;\n",
              "  }\n",
              "\n",
              "  .colab-df-spinner {\n",
              "    border: 2px solid var(--fill-color);\n",
              "    border-color: transparent;\n",
              "    border-bottom-color: var(--fill-color);\n",
              "    animation:\n",
              "      spin 1s steps(1) infinite;\n",
              "  }\n",
              "\n",
              "  @keyframes spin {\n",
              "    0% {\n",
              "      border-color: transparent;\n",
              "      border-bottom-color: var(--fill-color);\n",
              "      border-left-color: var(--fill-color);\n",
              "    }\n",
              "    20% {\n",
              "      border-color: transparent;\n",
              "      border-left-color: var(--fill-color);\n",
              "      border-top-color: var(--fill-color);\n",
              "    }\n",
              "    30% {\n",
              "      border-color: transparent;\n",
              "      border-left-color: var(--fill-color);\n",
              "      border-top-color: var(--fill-color);\n",
              "      border-right-color: var(--fill-color);\n",
              "    }\n",
              "    40% {\n",
              "      border-color: transparent;\n",
              "      border-right-color: var(--fill-color);\n",
              "      border-top-color: var(--fill-color);\n",
              "    }\n",
              "    60% {\n",
              "      border-color: transparent;\n",
              "      border-right-color: var(--fill-color);\n",
              "    }\n",
              "    80% {\n",
              "      border-color: transparent;\n",
              "      border-right-color: var(--fill-color);\n",
              "      border-bottom-color: var(--fill-color);\n",
              "    }\n",
              "    90% {\n",
              "      border-color: transparent;\n",
              "      border-bottom-color: var(--fill-color);\n",
              "    }\n",
              "  }\n",
              "</style>\n",
              "\n",
              "      <script>\n",
              "        async function quickchart(key) {\n",
              "          const quickchartButtonEl =\n",
              "            document.querySelector('#' + key + ' button');\n",
              "          quickchartButtonEl.disabled = true;  // To prevent multiple clicks.\n",
              "          quickchartButtonEl.classList.add('colab-df-spinner');\n",
              "          try {\n",
              "            const charts = await google.colab.kernel.invokeFunction(\n",
              "                'suggestCharts', [key], {});\n",
              "          } catch (error) {\n",
              "            console.error('Error during call to suggestCharts:', error);\n",
              "          }\n",
              "          quickchartButtonEl.classList.remove('colab-df-spinner');\n",
              "          quickchartButtonEl.classList.add('colab-df-quickchart-complete');\n",
              "        }\n",
              "        (() => {\n",
              "          let quickchartButtonEl =\n",
              "            document.querySelector('#df-8be5ec98-3a1b-48ab-9776-5989f45e4d85 button');\n",
              "          quickchartButtonEl.style.display =\n",
              "            google.colab.kernel.accessAllowed ? 'block' : 'none';\n",
              "        })();\n",
              "      </script>\n",
              "    </div>\n",
              "\n",
              "    </div>\n",
              "  </div>\n"
            ],
            "application/vnd.google.colaboratory.intrinsic+json": {
              "type": "dataframe",
              "summary": "{\n  \"name\": \"df\",\n  \"rows\": 3,\n  \"fields\": [\n    {\n      \"column\": \"EmployeeName\",\n      \"properties\": {\n        \"dtype\": \"string\",\n        \"num_unique_values\": 3,\n        \"samples\": [\n          \"James\",\n          \"Michael\",\n          \"Robert\"\n        ],\n        \"semantic_type\": \"\",\n        \"description\": \"\"\n      }\n    },\n    {\n      \"column\": \"Department\",\n      \"properties\": {\n        \"dtype\": \"category\",\n        \"num_unique_values\": 1,\n        \"samples\": [\n          \"Sales\"\n        ],\n        \"semantic_type\": \"\",\n        \"description\": \"\"\n      }\n    },\n    {\n      \"column\": \"Salary\",\n      \"properties\": {\n        \"dtype\": \"number\",\n        \"std\": 818,\n        \"min\": 3000,\n        \"max\": 4600,\n        \"num_unique_values\": 3,\n        \"samples\": [\n          3000\n        ],\n        \"semantic_type\": \"\",\n        \"description\": \"\"\n      }\n    }\n  ]\n}"
            }
          },
          "metadata": {},
          "execution_count": 23
        }
      ]
    },
    {
      "cell_type": "code",
      "source": [
        "# DataFrame Spark sederhana dan operasi dasar select()\n",
        "from pyspark.sql import SparkSession\n",
        "spark = SparkSession.builder.appName('HandsOnPertemuan3').getOrCreate()\n",
        "\n",
        "data = [('Axel', 'HR', 4200),\n",
        "        ('James', 'Sales', 3000),\n",
        "        ('Michael', 'Sales', 4600),\n",
        "        ('Robert', 'Sales', 4100),\n",
        "        ('Maria', 'Finance', 3000),\n",
        "        ('Selly', 'Cust. Service', 3250)]\n",
        "columns = ['EmployeeName', 'Department', 'Salary']\n",
        "\n",
        "df = spark.createDataFrame(data, schema=columns)\n",
        "\n",
        "df.select('EmployeeName', 'Salary').show()"
      ],
      "metadata": {
        "colab": {
          "base_uri": "https://localhost:8080/"
        },
        "id": "ztly7oMotOBH",
        "outputId": "66100e2c-6b59-4b60-9f99-41de8dfcd521"
      },
      "id": "ztly7oMotOBH",
      "execution_count": null,
      "outputs": [
        {
          "output_type": "stream",
          "name": "stdout",
          "text": [
            "+------------+------+\n",
            "|EmployeeName|Salary|\n",
            "+------------+------+\n",
            "|        Axel|  4200|\n",
            "|       James|  3000|\n",
            "|     Michael|  4600|\n",
            "|      Robert|  4100|\n",
            "|       Maria|  3000|\n",
            "|       Selly|  3250|\n",
            "+------------+------+\n",
            "\n"
          ]
        }
      ]
    },
    {
      "cell_type": "code",
      "source": [
        "# DataFrame Spark sederhana dan operasi dasar select()\n",
        "from pyspark.sql import SparkSession\n",
        "spark = SparkSession.builder.appName('HandsOnPertemuan3').getOrCreate()\n",
        "\n",
        "data = [('Axel', 'HR', 4200),\n",
        "        ('James', 'Sales', 3000),\n",
        "        ('Michael', 'Sales', 4600),\n",
        "        ('Robert', 'Sales', 4100),\n",
        "        ('Maria', 'Finance', 3000),\n",
        "        ('Selly', 'Cust. Service', 3250)]\n",
        "columns = ['EmployeeName', 'Department', 'Salary']\n",
        "\n",
        "df = spark.createDataFrame(data, schema=columns)\n",
        "\n",
        "df.select(\"EmployeeName\", \"Department\").show()"
      ],
      "metadata": {
        "colab": {
          "base_uri": "https://localhost:8080/"
        },
        "id": "FDoMNlUwnNLb",
        "outputId": "eaba0da3-c57a-4c80-d693-54244861ee31"
      },
      "id": "FDoMNlUwnNLb",
      "execution_count": null,
      "outputs": [
        {
          "output_type": "stream",
          "name": "stdout",
          "text": [
            "+------------+-------------+\n",
            "|EmployeeName|   Department|\n",
            "+------------+-------------+\n",
            "|        Axel|           HR|\n",
            "|       James|        Sales|\n",
            "|     Michael|        Sales|\n",
            "|      Robert|        Sales|\n",
            "|       Maria|      Finance|\n",
            "|       Selly|Cust. Service|\n",
            "+------------+-------------+\n",
            "\n"
          ]
        }
      ]
    },
    {
      "cell_type": "code",
      "source": [
        "# DataFrame Spark sederhana dan operasi dasar groupBy()\n",
        "from pyspark.sql import SparkSession\n",
        "spark = SparkSession.builder.appName('HandsOnPertemuan3').getOrCreate()\n",
        "\n",
        "data = [('Axel', 'HR', 4200),\n",
        "        ('James', 'Sales', 3000),\n",
        "        ('Michael', 'Sales', 4600),\n",
        "        ('Robert', 'Sales', 4100),\n",
        "        ('Maria', 'Finance', 3000),\n",
        "        ('Selly', 'Cust. Service', 3250)]\n",
        "columns = ['EmployeeName', 'Department', 'Salary']\n",
        "\n",
        "df = spark.createDataFrame(data, schema=columns)\n",
        "\n",
        "df.groupBy('Department').avg('Salary').show()"
      ],
      "metadata": {
        "colab": {
          "base_uri": "https://localhost:8080/"
        },
        "id": "goHblwezHy1c",
        "outputId": "4ed31967-49a0-4b6f-9e5e-457f67f9605a"
      },
      "id": "goHblwezHy1c",
      "execution_count": null,
      "outputs": [
        {
          "output_type": "stream",
          "name": "stdout",
          "text": [
            "+-------------+-----------+\n",
            "|   Department|avg(Salary)|\n",
            "+-------------+-----------+\n",
            "|        Sales|     3900.0|\n",
            "|           HR|     4200.0|\n",
            "|      Finance|     3000.0|\n",
            "|Cust. Service|     3250.0|\n",
            "+-------------+-----------+\n",
            "\n"
          ]
        }
      ]
    },
    {
      "cell_type": "code",
      "source": [
        "# DataFrame Spark sederhana dan operasi dasar groupBy() + fungsi agregasi\n",
        "from pyspark.sql import SparkSession\n",
        "from pyspark.sql.functions import count, mean, max, min, sum\n",
        "\n",
        "spark = SparkSession.builder.appName('HandsOnPertemuan3').getOrCreate()\n",
        "\n",
        "data = [('Axel', 'HR', 4200),\n",
        "        ('James', 'Sales', 3000),\n",
        "        ('Michael', 'Sales', 4600),\n",
        "        ('Robert', 'Sales', 4100),\n",
        "        ('Maria', 'Finance', 3000),\n",
        "        ('Selly', 'Cust. Service', 3250)]\n",
        "columns = ['EmployeeName', 'Department', 'Salary']\n",
        "\n",
        "df = spark.createDataFrame(data, schema=columns)\n",
        "\n",
        "df.groupBy('Department').agg(\n",
        "    count(\"EmployeeName\").alias(\"Employee Count\"),\n",
        "    mean(\"Salary\").alias(\"Average Salary\"),\n",
        "    max(\"Salary\").alias(\"Max Salary\"),\n",
        "    min(\"Salary\").alias(\"Min Salary\"),\n",
        "    sum(\"Salary\").alias(\"Total Salary\")\n",
        ").show()"
      ],
      "metadata": {
        "colab": {
          "base_uri": "https://localhost:8080/"
        },
        "id": "PPU3dWrpvgfj",
        "outputId": "5c7ebea5-1392-4f07-904d-66771ffd47f4"
      },
      "id": "PPU3dWrpvgfj",
      "execution_count": null,
      "outputs": [
        {
          "output_type": "stream",
          "name": "stdout",
          "text": [
            "+-------------+--------------+--------------+----------+----------+------------+\n",
            "|   Department|Employee Count|Average Salary|Max Salary|Min Salary|Total Salary|\n",
            "+-------------+--------------+--------------+----------+----------+------------+\n",
            "|        Sales|             3|        3900.0|      4600|      3000|       11700|\n",
            "|           HR|             1|        4200.0|      4200|      4200|        4200|\n",
            "|      Finance|             1|        3000.0|      3000|      3000|        3000|\n",
            "|Cust. Service|             1|        3250.0|      3250|      3250|        3250|\n",
            "+-------------+--------------+--------------+----------+----------+------------+\n",
            "\n"
          ]
        }
      ]
    },
    {
      "cell_type": "markdown",
      "id": "89763d36",
      "metadata": {
        "id": "89763d36"
      },
      "source": [
        "### 3. Bekerja dengan Tipe Data Kompleks\n",
        "Spark mendukung tipe data yang kompleks seperti maps, arrays, dan structs yang memungkinkan operasi yang lebih kompleks pada dataset yang kompleks.\n",
        "\n",
        "- **Tugas 3**: Eksplorasi bagaimana mengolah tipe data kompleks dalam Spark DataFrames."
      ]
    },
    {
      "cell_type": "code",
      "execution_count": null,
      "id": "14701d79",
      "metadata": {
        "id": "14701d79"
      },
      "outputs": [],
      "source": [
        "# Contoh manipulasi tipe data kompleks\n",
        "df.withColumn('SalaryBonus', df['Salary'] * 0.1).show()\n",
        "df.withColumn('TotalCompensation', df['Salary'] + df['SalaryBonus']).show()"
      ]
    },
    {
      "cell_type": "code",
      "source": [
        "# Manipulasi tipe data kompleks\n",
        "from pyspark.sql import SparkSession\n",
        "\n",
        "spark = SparkSession.builder.appName('HandsOnPertemuan3').getOrCreate()\n",
        "\n",
        "data = [('Axel', 'HR', 4200),\n",
        "        ('James', 'Sales', 3000),\n",
        "        ('Michael', 'Sales', 4600),\n",
        "        ('Robert', 'Sales', 4100),\n",
        "        ('Maria', 'Finance', 3000),\n",
        "        ('Selly', 'Cust. Service', 3250)]\n",
        "columns = ['EmployeeName', 'Department', 'Salary']\n",
        "\n",
        "df = spark.createDataFrame(data, schema=columns)\n",
        "\n",
        "df1 = df.withColumn('SalaryBonus', df['Salary'] * 0.1)\n",
        "print(\"       Bonus Gaji Karyawan per Departemen\")\n",
        "df1.show()\n",
        "\n",
        "df2 = df1.withColumn('TotalCompensation', df1['Salary'] + df1['SalaryBonus'])\n",
        "print(\"                     Total Kompensasi Karyawan\")\n",
        "df2.show()"
      ],
      "metadata": {
        "colab": {
          "base_uri": "https://localhost:8080/"
        },
        "id": "pbHOrrPByBqs",
        "outputId": "d05e11f0-0b5c-4c82-e2f3-69dda1ede6c2"
      },
      "id": "pbHOrrPByBqs",
      "execution_count": null,
      "outputs": [
        {
          "output_type": "stream",
          "name": "stdout",
          "text": [
            "       Bonus Gaji Karyawan per Departemen\n",
            "+------------+-------------+------+-----------+\n",
            "|EmployeeName|   Department|Salary|SalaryBonus|\n",
            "+------------+-------------+------+-----------+\n",
            "|        Axel|           HR|  4200|      420.0|\n",
            "|       James|        Sales|  3000|      300.0|\n",
            "|     Michael|        Sales|  4600|      460.0|\n",
            "|      Robert|        Sales|  4100|      410.0|\n",
            "|       Maria|      Finance|  3000|      300.0|\n",
            "|       Selly|Cust. Service|  3250|      325.0|\n",
            "+------------+-------------+------+-----------+\n",
            "\n",
            "                     Total Kompensasi Karyawan\n",
            "+------------+-------------+------+-----------+-----------------+\n",
            "|EmployeeName|   Department|Salary|SalaryBonus|TotalCompensation|\n",
            "+------------+-------------+------+-----------+-----------------+\n",
            "|        Axel|           HR|  4200|      420.0|           4620.0|\n",
            "|       James|        Sales|  3000|      300.0|           3300.0|\n",
            "|     Michael|        Sales|  4600|      460.0|           5060.0|\n",
            "|      Robert|        Sales|  4100|      410.0|           4510.0|\n",
            "|       Maria|      Finance|  3000|      300.0|           3300.0|\n",
            "|       Selly|Cust. Service|  3250|      325.0|           3575.0|\n",
            "+------------+-------------+------+-----------+-----------------+\n",
            "\n"
          ]
        }
      ]
    },
    {
      "cell_type": "markdown",
      "id": "5b3b58dd",
      "metadata": {
        "id": "5b3b58dd"
      },
      "source": [
        "### 4. Operasi Data Lanjutan\n",
        "Menggunakan Spark untuk operasi lanjutan seperti window functions, user-defined functions (UDFs), dan mengoptimalkan query.\n",
        "\n",
        "- **Tugas 4**: Implementasikan window function untuk menghitung running totals atau rangkings."
      ]
    },
    {
      "cell_type": "code",
      "execution_count": null,
      "id": "035312eb",
      "metadata": {
        "id": "035312eb",
        "colab": {
          "base_uri": "https://localhost:8080/"
        },
        "outputId": "cb6250be-c358-4ac2-902e-3f87a27726e9"
      },
      "outputs": [
        {
          "output_type": "stream",
          "name": "stdout",
          "text": [
            "+------------+-------------+------+-----------+-----------------+----+\n",
            "|EmployeeName|   Department|Salary|SalaryBonus|TotalCompensation|Rank|\n",
            "+------------+-------------+------+-----------+-----------------+----+\n",
            "|       Selly|Cust. Service|  3250|      325.0|           3575.0|   1|\n",
            "|       Maria|      Finance|  3000|      300.0|           3300.0|   1|\n",
            "|        Axel|           HR|  4200|      420.0|           4620.0|   1|\n",
            "|       James|        Sales|  3000|      300.0|           3300.0|   1|\n",
            "|      Robert|        Sales|  4100|      410.0|           4510.0|   2|\n",
            "|     Michael|        Sales|  4600|      460.0|           5060.0|   3|\n",
            "+------------+-------------+------+-----------+-----------------+----+\n",
            "\n"
          ]
        }
      ],
      "source": [
        "# Implementasi window functions\n",
        "from pyspark.sql.window import Window\n",
        "from pyspark.sql import functions as F\n",
        "\n",
        "windowSpec = Window.partitionBy('Department').orderBy('Salary')\n",
        "df2.withColumn('Rank', F.rank().over(windowSpec)).show()"
      ]
    },
    {
      "cell_type": "markdown",
      "id": "f8a097ec",
      "metadata": {
        "id": "f8a097ec"
      },
      "source": [
        "### 5. Kesimpulan dan Eksplorasi Lebih Lanjut\n",
        "Review apa yang telah dipelajari tentang pemrosesan data menggunakan Spark dan eksplorasi teknik lebih lanjut untuk mengoptimalkan pemrosesan data Anda.\n",
        "<br>**Tugas 5**:\n",
        "- Unduh dataset besar dari [Kaggle](https://www.kaggle.com/) atau sumber lainnya.\n",
        "- Input data csv yang telah di download, kemudian load dan simpan data ke dalam pyspark.\n",
        "- Setelah data berhasil di load menggunakan pyspark, lakukan manipulasi data untuk memperoleh informasi yang dibutuhkan"
      ]
    },
    {
      "cell_type": "markdown",
      "source": [
        "[Coffee Sales Dataset](https://www.kaggle.com/datasets/navjotkaushal/coffee-sales-dataset) from Kaggle"
      ],
      "metadata": {
        "id": "Cnd6sSaj6Rr3"
      },
      "id": "Cnd6sSaj6Rr3"
    },
    {
      "cell_type": "code",
      "source": [
        "# Input data .csv\n",
        "from google.colab import files\n",
        "uploaded = files.upload()"
      ],
      "metadata": {
        "colab": {
          "base_uri": "https://localhost:8080/",
          "height": 71
        },
        "id": "boaSGTJK-GI0",
        "outputId": "7e62eaa8-ca18-4830-c4e2-bdf3a00de8b7"
      },
      "id": "boaSGTJK-GI0",
      "execution_count": 1,
      "outputs": [
        {
          "output_type": "display_data",
          "data": {
            "text/plain": [
              "<IPython.core.display.HTML object>"
            ],
            "text/html": [
              "\n",
              "     <input type=\"file\" id=\"files-1f6c3a29-e5f6-45f0-8a96-9b7e795a15f6\" name=\"files[]\" multiple disabled\n",
              "        style=\"border:none\" />\n",
              "     <output id=\"result-1f6c3a29-e5f6-45f0-8a96-9b7e795a15f6\">\n",
              "      Upload widget is only available when the cell has been executed in the\n",
              "      current browser session. Please rerun this cell to enable.\n",
              "      </output>\n",
              "      <script>// Copyright 2017 Google LLC\n",
              "//\n",
              "// Licensed under the Apache License, Version 2.0 (the \"License\");\n",
              "// you may not use this file except in compliance with the License.\n",
              "// You may obtain a copy of the License at\n",
              "//\n",
              "//      http://www.apache.org/licenses/LICENSE-2.0\n",
              "//\n",
              "// Unless required by applicable law or agreed to in writing, software\n",
              "// distributed under the License is distributed on an \"AS IS\" BASIS,\n",
              "// WITHOUT WARRANTIES OR CONDITIONS OF ANY KIND, either express or implied.\n",
              "// See the License for the specific language governing permissions and\n",
              "// limitations under the License.\n",
              "\n",
              "/**\n",
              " * @fileoverview Helpers for google.colab Python module.\n",
              " */\n",
              "(function(scope) {\n",
              "function span(text, styleAttributes = {}) {\n",
              "  const element = document.createElement('span');\n",
              "  element.textContent = text;\n",
              "  for (const key of Object.keys(styleAttributes)) {\n",
              "    element.style[key] = styleAttributes[key];\n",
              "  }\n",
              "  return element;\n",
              "}\n",
              "\n",
              "// Max number of bytes which will be uploaded at a time.\n",
              "const MAX_PAYLOAD_SIZE = 100 * 1024;\n",
              "\n",
              "function _uploadFiles(inputId, outputId) {\n",
              "  const steps = uploadFilesStep(inputId, outputId);\n",
              "  const outputElement = document.getElementById(outputId);\n",
              "  // Cache steps on the outputElement to make it available for the next call\n",
              "  // to uploadFilesContinue from Python.\n",
              "  outputElement.steps = steps;\n",
              "\n",
              "  return _uploadFilesContinue(outputId);\n",
              "}\n",
              "\n",
              "// This is roughly an async generator (not supported in the browser yet),\n",
              "// where there are multiple asynchronous steps and the Python side is going\n",
              "// to poll for completion of each step.\n",
              "// This uses a Promise to block the python side on completion of each step,\n",
              "// then passes the result of the previous step as the input to the next step.\n",
              "function _uploadFilesContinue(outputId) {\n",
              "  const outputElement = document.getElementById(outputId);\n",
              "  const steps = outputElement.steps;\n",
              "\n",
              "  const next = steps.next(outputElement.lastPromiseValue);\n",
              "  return Promise.resolve(next.value.promise).then((value) => {\n",
              "    // Cache the last promise value to make it available to the next\n",
              "    // step of the generator.\n",
              "    outputElement.lastPromiseValue = value;\n",
              "    return next.value.response;\n",
              "  });\n",
              "}\n",
              "\n",
              "/**\n",
              " * Generator function which is called between each async step of the upload\n",
              " * process.\n",
              " * @param {string} inputId Element ID of the input file picker element.\n",
              " * @param {string} outputId Element ID of the output display.\n",
              " * @return {!Iterable<!Object>} Iterable of next steps.\n",
              " */\n",
              "function* uploadFilesStep(inputId, outputId) {\n",
              "  const inputElement = document.getElementById(inputId);\n",
              "  inputElement.disabled = false;\n",
              "\n",
              "  const outputElement = document.getElementById(outputId);\n",
              "  outputElement.innerHTML = '';\n",
              "\n",
              "  const pickedPromise = new Promise((resolve) => {\n",
              "    inputElement.addEventListener('change', (e) => {\n",
              "      resolve(e.target.files);\n",
              "    });\n",
              "  });\n",
              "\n",
              "  const cancel = document.createElement('button');\n",
              "  inputElement.parentElement.appendChild(cancel);\n",
              "  cancel.textContent = 'Cancel upload';\n",
              "  const cancelPromise = new Promise((resolve) => {\n",
              "    cancel.onclick = () => {\n",
              "      resolve(null);\n",
              "    };\n",
              "  });\n",
              "\n",
              "  // Wait for the user to pick the files.\n",
              "  const files = yield {\n",
              "    promise: Promise.race([pickedPromise, cancelPromise]),\n",
              "    response: {\n",
              "      action: 'starting',\n",
              "    }\n",
              "  };\n",
              "\n",
              "  cancel.remove();\n",
              "\n",
              "  // Disable the input element since further picks are not allowed.\n",
              "  inputElement.disabled = true;\n",
              "\n",
              "  if (!files) {\n",
              "    return {\n",
              "      response: {\n",
              "        action: 'complete',\n",
              "      }\n",
              "    };\n",
              "  }\n",
              "\n",
              "  for (const file of files) {\n",
              "    const li = document.createElement('li');\n",
              "    li.append(span(file.name, {fontWeight: 'bold'}));\n",
              "    li.append(span(\n",
              "        `(${file.type || 'n/a'}) - ${file.size} bytes, ` +\n",
              "        `last modified: ${\n",
              "            file.lastModifiedDate ? file.lastModifiedDate.toLocaleDateString() :\n",
              "                                    'n/a'} - `));\n",
              "    const percent = span('0% done');\n",
              "    li.appendChild(percent);\n",
              "\n",
              "    outputElement.appendChild(li);\n",
              "\n",
              "    const fileDataPromise = new Promise((resolve) => {\n",
              "      const reader = new FileReader();\n",
              "      reader.onload = (e) => {\n",
              "        resolve(e.target.result);\n",
              "      };\n",
              "      reader.readAsArrayBuffer(file);\n",
              "    });\n",
              "    // Wait for the data to be ready.\n",
              "    let fileData = yield {\n",
              "      promise: fileDataPromise,\n",
              "      response: {\n",
              "        action: 'continue',\n",
              "      }\n",
              "    };\n",
              "\n",
              "    // Use a chunked sending to avoid message size limits. See b/62115660.\n",
              "    let position = 0;\n",
              "    do {\n",
              "      const length = Math.min(fileData.byteLength - position, MAX_PAYLOAD_SIZE);\n",
              "      const chunk = new Uint8Array(fileData, position, length);\n",
              "      position += length;\n",
              "\n",
              "      const base64 = btoa(String.fromCharCode.apply(null, chunk));\n",
              "      yield {\n",
              "        response: {\n",
              "          action: 'append',\n",
              "          file: file.name,\n",
              "          data: base64,\n",
              "        },\n",
              "      };\n",
              "\n",
              "      let percentDone = fileData.byteLength === 0 ?\n",
              "          100 :\n",
              "          Math.round((position / fileData.byteLength) * 100);\n",
              "      percent.textContent = `${percentDone}% done`;\n",
              "\n",
              "    } while (position < fileData.byteLength);\n",
              "  }\n",
              "\n",
              "  // All done.\n",
              "  yield {\n",
              "    response: {\n",
              "      action: 'complete',\n",
              "    }\n",
              "  };\n",
              "}\n",
              "\n",
              "scope.google = scope.google || {};\n",
              "scope.google.colab = scope.google.colab || {};\n",
              "scope.google.colab._files = {\n",
              "  _uploadFiles,\n",
              "  _uploadFilesContinue,\n",
              "};\n",
              "})(self);\n",
              "</script> "
            ]
          },
          "metadata": {}
        },
        {
          "output_type": "stream",
          "name": "stdout",
          "text": [
            "Saving Coffe_sales.csv to Coffe_sales.csv\n"
          ]
        }
      ]
    },
    {
      "cell_type": "code",
      "source": [
        "# Membaca dataset dari file .csv dalam bentuk tabel\n",
        "from pyspark.sql import SparkSession\n",
        "spark = SparkSession.builder.appName('HandsOnPertemuan3').getOrCreate()\n",
        "dfCoffe = spark.read.csv(\"Coffe_sales.csv\", header=True, inferSchema=True)\n",
        "\n",
        "dfCoffe.show()"
      ],
      "metadata": {
        "colab": {
          "base_uri": "https://localhost:8080/"
        },
        "id": "tvrgkjZt-Q8a",
        "outputId": "eebff01e-62c6-44be-9357-d8f0cf5942c4"
      },
      "id": "tvrgkjZt-Q8a",
      "execution_count": 7,
      "outputs": [
        {
          "output_type": "stream",
          "name": "stdout",
          "text": [
            "+-----------+---------+-----+-------------------+-----------+-------+----------+-----------+---------+----------+--------------------+\n",
            "|hour_of_day|cash_type|money|        coffee_name|Time_of_Day|Weekday|Month_name|Weekdaysort|Monthsort|      Date|                Time|\n",
            "+-----------+---------+-----+-------------------+-----------+-------+----------+-----------+---------+----------+--------------------+\n",
            "|         10|     card| 38.7|              Latte|    Morning|    Fri|       Mar|          5|        3|2024-03-01|2025-09-09 10:15:...|\n",
            "|         12|     card| 38.7|      Hot Chocolate|  Afternoon|    Fri|       Mar|          5|        3|2024-03-01|2025-09-09 12:19:...|\n",
            "|         12|     card| 38.7|      Hot Chocolate|  Afternoon|    Fri|       Mar|          5|        3|2024-03-01|2025-09-09 12:20:...|\n",
            "|         13|     card| 28.9|          Americano|  Afternoon|    Fri|       Mar|          5|        3|2024-03-01|2025-09-09 13:46:...|\n",
            "|         13|     card| 38.7|              Latte|  Afternoon|    Fri|       Mar|          5|        3|2024-03-01|2025-09-09 13:48:...|\n",
            "|         15|     card| 33.8|Americano with Milk|  Afternoon|    Fri|       Mar|          5|        3|2024-03-01|2025-09-09 15:39:...|\n",
            "|         16|     card| 38.7|      Hot Chocolate|  Afternoon|    Fri|       Mar|          5|        3|2024-03-01|2025-09-09 16:19:...|\n",
            "|         18|     card| 33.8|Americano with Milk|      Night|    Fri|       Mar|          5|        3|2024-03-01|2025-09-09 18:39:...|\n",
            "|         19|     card| 38.7|              Cocoa|      Night|    Fri|       Mar|          5|        3|2024-03-01|2025-09-09 19:22:...|\n",
            "|         19|     card| 33.8|Americano with Milk|      Night|    Fri|       Mar|          5|        3|2024-03-01|2025-09-09 19:23:...|\n",
            "|         19|     card| 33.8|Americano with Milk|      Night|    Fri|       Mar|          5|        3|2024-03-01|2025-09-09 19:29:...|\n",
            "|         10|     card| 28.9|          Americano|    Morning|    Sat|       Mar|          6|        3|2024-03-02|2025-09-09 10:22:...|\n",
            "|         10|     card| 33.8|Americano with Milk|    Morning|    Sat|       Mar|          6|        3|2024-03-02|2025-09-09 10:41:...|\n",
            "|         11|     card| 33.8|Americano with Milk|    Morning|    Sat|       Mar|          6|        3|2024-03-02|2025-09-09 11:59:...|\n",
            "|         14|     card| 28.9|          Americano|  Afternoon|    Sat|       Mar|          6|        3|2024-03-02|2025-09-09 14:38:...|\n",
            "|         16|     card| 33.8|Americano with Milk|  Afternoon|    Sat|       Mar|          6|        3|2024-03-02|2025-09-09 16:37:...|\n",
            "|         17|     card| 28.9|          Americano|      Night|    Sat|       Mar|          6|        3|2024-03-02|2025-09-09 17:34:...|\n",
            "|         10|     card| 38.7|              Latte|    Morning|    Sun|       Mar|          7|        3|2024-03-03|2025-09-09 10:27:...|\n",
            "|         11|     card| 28.9|            Cortado|    Morning|    Sun|       Mar|          7|        3|2024-03-03|2025-09-09 11:33:...|\n",
            "|         12|     card| 28.9|          Americano|  Afternoon|    Sun|       Mar|          7|        3|2024-03-03|2025-09-09 12:26:...|\n",
            "+-----------+---------+-----+-------------------+-----------+-------+----------+-----------+---------+----------+--------------------+\n",
            "only showing top 20 rows\n",
            "\n"
          ]
        }
      ]
    },
    {
      "cell_type": "code",
      "source": [
        "# Membaca dataset dari file .csv dalam bentuk struktur kolom dataset\n",
        "from pyspark.sql import SparkSession\n",
        "spark = SparkSession.builder.appName('HandsOnPertemuan3').getOrCreate()\n",
        "dfCoffe = spark.read.csv(\"Coffe_sales.csv\", header=True, inferSchema=True)\n",
        "\n",
        "dfCoffe.printSchema()"
      ],
      "metadata": {
        "colab": {
          "base_uri": "https://localhost:8080/"
        },
        "id": "DppGd_Yz-cuf",
        "outputId": "fad94b3d-6391-4193-e9b3-2f680aa035cc"
      },
      "id": "DppGd_Yz-cuf",
      "execution_count": 6,
      "outputs": [
        {
          "output_type": "stream",
          "name": "stdout",
          "text": [
            "root\n",
            " |-- hour_of_day: integer (nullable = true)\n",
            " |-- cash_type: string (nullable = true)\n",
            " |-- money: double (nullable = true)\n",
            " |-- coffee_name: string (nullable = true)\n",
            " |-- Time_of_Day: string (nullable = true)\n",
            " |-- Weekday: string (nullable = true)\n",
            " |-- Month_name: string (nullable = true)\n",
            " |-- Weekdaysort: integer (nullable = true)\n",
            " |-- Monthsort: integer (nullable = true)\n",
            " |-- Date: date (nullable = true)\n",
            " |-- Time: timestamp (nullable = true)\n",
            "\n"
          ]
        }
      ]
    },
    {
      "cell_type": "code",
      "source": [
        "# Menampilkan data penjualan yang terakhir masuk (descending)\n",
        "from pyspark.sql.functions import col\n",
        "\n",
        "dfCoffe.orderBy(col(\"Date\").desc()).show()"
      ],
      "metadata": {
        "colab": {
          "base_uri": "https://localhost:8080/"
        },
        "id": "DzEeHMHJ3hb0",
        "outputId": "e23bfa2f-49e5-4356-cb48-93381d49663c"
      },
      "id": "DzEeHMHJ3hb0",
      "execution_count": 8,
      "outputs": [
        {
          "output_type": "stream",
          "name": "stdout",
          "text": [
            "+-----------+---------+-----+-------------------+-----------+-------+----------+-----------+---------+----------+--------------------+\n",
            "|hour_of_day|cash_type|money|        coffee_name|Time_of_Day|Weekday|Month_name|Weekdaysort|Monthsort|      Date|                Time|\n",
            "+-----------+---------+-----+-------------------+-----------+-------+----------+-----------+---------+----------+--------------------+\n",
            "|         10|     card|35.76|              Latte|    Morning|    Sun|       Mar|          7|        3|2025-03-23|2025-09-09 10:07:...|\n",
            "|         10|     card|35.76|         Cappuccino|    Morning|    Sun|       Mar|          7|        3|2025-03-23|2025-09-09 10:34:...|\n",
            "|         14|     card|35.76|              Cocoa|  Afternoon|    Sun|       Mar|          7|        3|2025-03-23|2025-09-09 14:43:...|\n",
            "|         14|     card|35.76|              Cocoa|  Afternoon|    Sun|       Mar|          7|        3|2025-03-23|2025-09-09 14:44:...|\n",
            "|         15|     card|25.96|          Americano|  Afternoon|    Sun|       Mar|          7|        3|2025-03-23|2025-09-09 15:47:...|\n",
            "|         18|     card|35.76|              Latte|      Night|    Sun|       Mar|          7|        3|2025-03-23|2025-09-09 18:11:...|\n",
            "|          9|     card|30.86|Americano with Milk|    Morning|    Sat|       Mar|          6|        3|2025-03-22|2025-09-09 09:05:...|\n",
            "|         10|     card|30.86|Americano with Milk|    Morning|    Sat|       Mar|          6|        3|2025-03-22|2025-09-09 10:30:...|\n",
            "|         11|     card|35.76|      Hot Chocolate|    Morning|    Sat|       Mar|          6|        3|2025-03-22|2025-09-09 11:14:...|\n",
            "|         11|     card|35.76|              Cocoa|    Morning|    Sat|       Mar|          6|        3|2025-03-22|2025-09-09 11:41:...|\n",
            "|         12|     card|30.86|Americano with Milk|  Afternoon|    Sat|       Mar|          6|        3|2025-03-22|2025-09-09 12:18:...|\n",
            "|         12|     card|25.96|          Americano|  Afternoon|    Sat|       Mar|          6|        3|2025-03-22|2025-09-09 12:25:...|\n",
            "|         13|     card|25.96|          Americano|  Afternoon|    Sat|       Mar|          6|        3|2025-03-22|2025-09-09 13:06:...|\n",
            "|         13|     card|30.86|Americano with Milk|  Afternoon|    Sat|       Mar|          6|        3|2025-03-22|2025-09-09 13:23:...|\n",
            "|         15|     card|21.06|           Espresso|  Afternoon|    Sat|       Mar|          6|        3|2025-03-22|2025-09-09 15:57:...|\n",
            "|         16|     card|35.76|              Latte|  Afternoon|    Sat|       Mar|          6|        3|2025-03-22|2025-09-09 16:26:...|\n",
            "|         17|     card|30.86|Americano with Milk|      Night|    Sat|       Mar|          6|        3|2025-03-22|2025-09-09 17:53:...|\n",
            "|         19|     card|30.86|Americano with Milk|      Night|    Sat|       Mar|          6|        3|2025-03-22|2025-09-09 19:16:...|\n",
            "|         18|     card|35.76|              Latte|      Night|    Fri|       Mar|          5|        3|2025-03-21|2025-09-09 18:52:...|\n",
            "|          7|     card|30.86|Americano with Milk|    Morning|    Fri|       Mar|          5|        3|2025-03-21|2025-09-09 07:06:...|\n",
            "+-----------+---------+-----+-------------------+-----------+-------+----------+-----------+---------+----------+--------------------+\n",
            "only showing top 20 rows\n",
            "\n"
          ]
        }
      ]
    },
    {
      "cell_type": "code",
      "source": [
        "# Menampilkan jumlah record data dari dataset Coffee Sales\n",
        "print(\"Jumlah baris dalam dataset 'Coffee Sales' : \" + str(dfCoffe.count()) + \" baris\\n\")\n",
        "\n",
        "print(\"Jumlah baris per nama kopi:\")\n",
        "dfCoffe.groupby(\"coffee_name\").count().show()"
      ],
      "metadata": {
        "colab": {
          "base_uri": "https://localhost:8080/"
        },
        "id": "zPak2mChz_oc",
        "outputId": "0c7f07ae-e250-495c-850c-64fdbbdcfff8"
      },
      "id": "zPak2mChz_oc",
      "execution_count": null,
      "outputs": [
        {
          "output_type": "stream",
          "name": "stdout",
          "text": [
            "Jumlah baris dalam dataset 'Coffee Sales' : 3547 baris\n",
            "\n",
            "Jumlah baris per nama kopi:\n",
            "+-------------------+-----+\n",
            "|        coffee_name|count|\n",
            "+-------------------+-----+\n",
            "|           Espresso|  129|\n",
            "|Americano with Milk|  809|\n",
            "|              Latte|  757|\n",
            "|          Americano|  564|\n",
            "|      Hot Chocolate|  276|\n",
            "|              Cocoa|  239|\n",
            "|            Cortado|  287|\n",
            "|         Cappuccino|  486|\n",
            "+-------------------+-----+\n",
            "\n"
          ]
        }
      ]
    },
    {
      "cell_type": "code",
      "source": [
        "# Menghitung jumlah transaksi per kopi\n",
        "dfCoffe.groupBy(\"coffee_name\").count().orderBy(col(\"count\").desc()).show()\n",
        "\n",
        "# Menghitung jumlah menu kopi\n",
        "num_menu = dfCoffe.select(\"coffee_name\").distinct().count()\n",
        "print(f\"Jumlah menu: {num_menu}\")"
      ],
      "metadata": {
        "colab": {
          "base_uri": "https://localhost:8080/"
        },
        "id": "mCa5lrXy9hZG",
        "outputId": "67cf1d8a-8c1e-4bf1-efc7-45c46c11efa3"
      },
      "id": "mCa5lrXy9hZG",
      "execution_count": null,
      "outputs": [
        {
          "output_type": "stream",
          "name": "stdout",
          "text": [
            "+-------------------+-----+\n",
            "|        coffee_name|count|\n",
            "+-------------------+-----+\n",
            "|Americano with Milk|  809|\n",
            "|              Latte|  757|\n",
            "|          Americano|  564|\n",
            "|         Cappuccino|  486|\n",
            "|            Cortado|  287|\n",
            "|      Hot Chocolate|  276|\n",
            "|              Cocoa|  239|\n",
            "|           Espresso|  129|\n",
            "+-------------------+-----+\n",
            "\n",
            "Jumlah menu: 8\n"
          ]
        }
      ]
    },
    {
      "cell_type": "code",
      "source": [
        "from pyspark.sql.window import Window\n",
        "from pyspark.sql.functions import col, row_number, year\n",
        "\n",
        "# Filtering = mengambil data penjualan tahun 2025\n",
        "df_2025 = dfCoffe.filter(year(col(\"Date\")) == 2025)\n",
        "\n",
        "# Window untuk mengambil harga terakhir per menu\n",
        "windowSpec = Window.partitionBy(\"coffee_name\").orderBy(col(\"Date\").desc())\n",
        "df_with_row = df_2025.withColumn(\"row_num\", row_number().over(windowSpec))\n",
        "\n",
        "# Ambil record terakhir\n",
        "df_latest_price = (df_with_row\n",
        "                   .filter(col(\"row_num\") == 1)\n",
        "                   .select(\n",
        "                       col(\"coffee_name\").alias(\"Menu\"),\n",
        "                       col(\"money\"). alias(\"Price\")))\n",
        "\n",
        "# Menampilkan Katalog Menu yang dijual\n",
        "print(\"====== Katalog  Menu ======\")\n",
        "df_latest_price.show()"
      ],
      "metadata": {
        "colab": {
          "base_uri": "https://localhost:8080/"
        },
        "id": "8RlCT_gfuRxz",
        "outputId": "a35bcb6b-a06d-4614-98fe-44b067c72b7c"
      },
      "id": "8RlCT_gfuRxz",
      "execution_count": 15,
      "outputs": [
        {
          "output_type": "stream",
          "name": "stdout",
          "text": [
            "====== Katalog  Menu ======\n",
            "+-------------------+-----+\n",
            "|               Menu|Price|\n",
            "+-------------------+-----+\n",
            "|          Americano|25.96|\n",
            "|Americano with Milk|30.86|\n",
            "|         Cappuccino|35.76|\n",
            "|              Cocoa|35.76|\n",
            "|            Cortado|25.96|\n",
            "|           Espresso|21.06|\n",
            "|      Hot Chocolate|35.76|\n",
            "|              Latte|35.76|\n",
            "+-------------------+-----+\n",
            "\n"
          ]
        }
      ]
    }
  ],
  "metadata": {
    "language_info": {
      "name": "python"
    },
    "colab": {
      "provenance": [],
      "collapsed_sections": [
        "cd5c2f90",
        "fca66b73",
        "89763d36"
      ],
      "include_colab_link": true
    },
    "kernelspec": {
      "name": "python3",
      "display_name": "Python 3"
    }
  },
  "nbformat": 4,
  "nbformat_minor": 5
}